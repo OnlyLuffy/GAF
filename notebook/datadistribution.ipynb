{
 "cells": [
  {
   "cell_type": "code",
   "execution_count": null,
   "metadata": {},
   "outputs": [],
   "source": [
    "import matplotlib.pyplot as plt\n",
    "import numpy as np\n",
    "import seaborn as sns\n",
    "\n",
    "dataset_name = \"PeMS04\"\n",
    "# dataset_name = \"PeMS08\"\n",
    "# dataset_name = \"PeMS-BAY\"\n",
    "data_path = f\"../../data/{dataset_name}/{dataset_name}.npz\"\n",
    "data = np.load(data_path)['data']\n",
    "seq_len, num_vertex = data.shape\n",
    "T=288\n",
    "print(\"num_vertex:\", num_vertex)\n",
    "print(\"seq_len:\", seq_len)"
   ]
  },
  {
   "cell_type": "code",
   "execution_count": null,
   "metadata": {},
   "outputs": [],
   "source": [
    "def get_nodes_flows(data, n, num_vertex, start_T, end_T):\n",
    "    flows=[]\n",
    "    nodes=[]\n",
    "    for i in range(n):\n",
    "        random_node = np.random.randint(num_vertex)\n",
    "        flow = data[start_T:end_T, random_node]\n",
    "        nodes.append(random_node)\n",
    "        flows.append(flow)\n",
    "    return nodes,flows\n",
    "\n",
    "def plot_blank(flows,nodes,start_T,end_T):\n",
    "    sns.set_theme(style=\"whitegrid\")\n",
    "    plt.figure(figsize=(10, 6))\n",
    "    for i in range(len(nodes)):\n",
    "        sns.lineplot(x=np.arange(start_T,end_T), y=flows[i], label=f'Node {nodes[i]}')\n",
    "    plt.title(f\"Traffic Flow Data - {dataset_name}\")\n",
    "    plt.xlabel('Time Steps')\n",
    "    plt.ylabel('Flow')\n",
    "    plt.legend()\n",
    "    plt.show()\n",
    "\n",
    "def plot_with_time(flows,nodes,T=288):\n",
    "    time_steps=np.arange(T)\n",
    "    # 设置每12个时间步显示一个刻度\n",
    "    x_ticks_indices = np.arange(0, len(time_steps), 12)\n",
    "    x_ticks = time_steps[x_ticks_indices]\n",
    "    # 设置对应的标签，假设从0:00开始\n",
    "    x_labels = ['{}:00'.format(i) for i in range(24)]\n",
    "    \n",
    "    sns.set_theme(style=\"whitegrid\")\n",
    "    plt.figure(figsize=(10, 6))\n",
    "    for i in range(len(nodes)):\n",
    "        sns.lineplot(x=time_steps, y=flows[i], label=f'Node {nodes[i]}')\n",
    "    plt.xticks(x_ticks,x_labels,rotation=45)\n",
    "    plt.title(f\"Traffic Flow Data - {dataset_name}\")\n",
    "    plt.xlabel('Time')\n",
    "    plt.ylabel('Flow')\n",
    "    plt.legend()\n",
    "    plt.show()"
   ]
  },
  {
   "cell_type": "code",
   "execution_count": null,
   "metadata": {},
   "outputs": [],
   "source": [
    "tmp = np.random.randint(seq_len//T)\n",
    "start_T = T*tmp\n",
    "end_T = T*(tmp+1)\n",
    "nodes, flows = get_nodes_flows(data,2,num_vertex,start_T,end_T)\n",
    "print(\"nodes=\",nodes)\n",
    "print(\"flows:\")\n",
    "for i in range(len(flows)):\n",
    "    print(f\"flow {i}.shape={flows[i].shape}\")\n",
    "plot_with_time(flows, nodes)"
   ]
  }
 ],
 "metadata": {
  "kernelspec": {
   "display_name": "m2t2",
   "language": "python",
   "name": "python3"
  },
  "language_info": {
   "codemirror_mode": {
    "name": "ipython",
    "version": 3
   },
   "file_extension": ".py",
   "mimetype": "text/x-python",
   "name": "python",
   "nbconvert_exporter": "python",
   "pygments_lexer": "ipython3",
   "version": "3.10.13"
  }
 },
 "nbformat": 4,
 "nbformat_minor": 2
}
