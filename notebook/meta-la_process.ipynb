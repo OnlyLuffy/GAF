{
 "cells": [
  {
   "cell_type": "code",
   "execution_count": 1,
   "metadata": {},
   "outputs": [],
   "source": [
    "import h5py\n",
    "import pandas as pd\n",
    "import numpy as np\n",
    "import datetime\n",
    "\n",
    "file_path = \"../../data/METR-LA/METR-LA.h5\""
   ]
  },
  {
   "cell_type": "code",
   "execution_count": null,
   "metadata": {},
   "outputs": [],
   "source": [
    "with h5py.File(file_path, 'r') as f:\n",
    "    # data_keys = list(f.keys())\n",
    "    # data_keys = ['df']\n",
    "    # print(\"META-LA数据集中的键：\", data_keys)\n",
    "    df = f['df']\n",
    "    # df.keys = ['axis0', 'axis1', 'block0_items', 'block0_values']\n",
    "    print(df.keys())\n",
    "    # dataset = df['block0_values']\n",
    "    # print(dataset.shape)\n",
    "    # np_data = np.array(dataset)\n",
    "    # print(type(np_data))\n",
    "    # print(np_data.shape)\n",
    "    # for k in df.keys():\n",
    "    #     data = df[k]\n",
    "    #     print(data.shape)\n",
    "    #     print(data[:2])\n",
    "    timestamp = df['axis1']\n",
    "    timestamp = np.array(timestamp)\n",
    "    print(timestamp.shape)\n",
    "    date = pd.to_datetime(timestamp)\n",
    "    print(date[:5])\n",
    "    print(date[-5:])"
   ]
  },
  {
   "cell_type": "code",
   "execution_count": 4,
   "metadata": {},
   "outputs": [
    {
     "name": "stdout",
     "output_type": "stream",
     "text": [
      "(1464, 2)\n",
      "[[ 5  0]\n",
      " [ 5  1]\n",
      " [ 5  2]\n",
      " [ 5  3]\n",
      " [ 5  4]\n",
      " [ 5  5]\n",
      " [ 5  6]\n",
      " [ 5  7]\n",
      " [ 5  8]\n",
      " [ 5  9]\n",
      " [ 5 10]\n",
      " [ 5 11]\n",
      " [ 5 12]\n",
      " [ 5 13]\n",
      " [ 5 14]\n",
      " [ 5 15]\n",
      " [ 5 16]\n",
      " [ 5 17]\n",
      " [ 5 18]\n",
      " [ 5 19]\n",
      " [ 5 20]\n",
      " [ 5 21]\n",
      " [ 5 22]\n",
      " [ 5 23]\n",
      " [ 6  0]\n",
      " [ 6  1]\n",
      " [ 6  2]\n",
      " [ 6  3]\n",
      " [ 6  4]\n",
      " [ 6  5]]\n"
     ]
    }
   ],
   "source": [
    "# TE generate\n",
    "def generate_TE(start_date,seq_len,file_name):\n",
    "    # time_interval = datetime.timedelta(minutes=5)\n",
    "    time_interval = datetime.timedelta(minutes=60)\n",
    "    # 初始化日期特征序列\n",
    "    day_of_week = np.zeros((seq_len, 1), dtype=np.int32)\n",
    "    time_of_day = np.zeros((seq_len, 1), dtype=np.int32)\n",
    "    # 生成日期特征序列\n",
    "    for i in range(seq_len):\n",
    "        current_date = start_date + i * time_interval\n",
    "        day_of_week[i] = current_date.weekday() # 获取周几编号（0-6）\n",
    "        # time_of_day[i] = (current_date.hour * 3600 + current_date.minute * 60 + current_date.second) // 300    # 获取当天时间编号（0-287）\n",
    "        time_of_day[i] = (current_date.hour * 3600 + current_date.minute * 60 + current_date.second) // 3600    # 获取当天时间编号（0-23）\n",
    "\n",
    "    time = np.concatenate([day_of_week, time_of_day], axis=-1)\n",
    "    print(time.shape)\n",
    "    print(time[:30])\n",
    "    np.savez(file_name,data=time)\n",
    "\n",
    "# start_date = datetime.datetime(2012,3,1)\n",
    "# generate_TE(start_date, 34272, file_name=\"../../data/METR-LA/TE_METR-LA.npz\")\n",
    "start_date = datetime.datetime(2023,4,1)\n",
    "generate_TE(start_date, 1464, file_name=\"../../data/BRT/TE_BRT.npz\")"
   ]
  },
  {
   "cell_type": "code",
   "execution_count": null,
   "metadata": {},
   "outputs": [],
   "source": [
    "file_path1 = \"../../data/PeMS04/PeMS04.npz\"\n",
    "file_path2 = \"../../data/METR-LA/META-LA.npz\"\n",
    "file_path3 = \"../../data/PeMS-BAY/TE_PeMS-BAY.npz\"\n",
    "def print_npz_data(file_path):\n",
    "    data = np.load(file_path)['data']\n",
    "    print(type(data))\n",
    "    print(data.shape)\n",
    "\n",
    "# print_npz_data(file_path1)\n",
    "print_npz_data(file_path3)"
   ]
  }
 ],
 "metadata": {
  "kernelspec": {
   "display_name": "m2t2",
   "language": "python",
   "name": "python3"
  },
  "language_info": {
   "codemirror_mode": {
    "name": "ipython",
    "version": 3
   },
   "file_extension": ".py",
   "mimetype": "text/x-python",
   "name": "python",
   "nbconvert_exporter": "python",
   "pygments_lexer": "ipython3",
   "version": "3.10.13"
  }
 },
 "nbformat": 4,
 "nbformat_minor": 2
}
