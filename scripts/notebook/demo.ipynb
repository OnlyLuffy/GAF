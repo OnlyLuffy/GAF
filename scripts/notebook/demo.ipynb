{
 "cells": [
  {
   "cell_type": "code",
   "execution_count": 4,
   "metadata": {},
   "outputs": [
    {
     "name": "stdout",
     "output_type": "stream",
     "text": [
      "All pretrained model files as follows:\n",
      "1. GGBond_2024-04-12_02-10-45.ckpt\n",
      "2. GAF_PeMS-BAY_epoch30_best_MinValLoss1point66_2024-05-12_17-27-11.ckpt\n",
      "3. GAF_PeMS-BAY_epoch30_final_ValLoss1point66_2024-05-12_17-27-11.ckpt\n",
      "4. GAF_PeMS08_epoch10_best_MinValLoss15point91_2024-04-26_12-55-21.ckpt\n",
      "5. GAF_PeMS08_epoch10_final_ValLoss16point01_2024-04-26_12-55-21.ckpt\n",
      "6. GAF_PeMS08_epoch20_final_ValLoss14point67_2024-05-12_00-17-57.ckpt\n",
      "7. GGBan_PeMS08_epoch20_best_MinValLoss717point74_2024-04-19_21-56-32.ckpt\n",
      "8. GGBan_PeMS08_epoch20_final_ValLoss717point74_2024-04-19_21-56-32.ckpt\n",
      "9. GGBan_PeMS08_epoch5_best_MinValLoss693point76_2024-04-19_15-37-48.ckpt\n",
      "10. GGBan_PeMS08_epoch5_final_ValLoss706point51_2024-04-19_15-37-48.ckpt\n",
      "11. GGBond_PeMS08_epoch5_best_MinValLoss582point65_2024-04-19_11-20-04.ckpt\n",
      "12. GGBond_PeMS08_epoch5_final_ValLoss582point65_2024-04-19_11-20-04.ckpt\n",
      "13. GGBond_epoch1_MinValLoss16point41_2024-04-13_18-15-23.ckpt\n",
      "14. GGBond_epoch1_MinValLoss18point44_2024-04-13_12-38-10.ckpt\n",
      "15. GGBond_epoch10_MinValLoss27point99_2024-04-13_21-42-39.ckpt\n",
      "16. GGBond_epoch20_MinValLoss13point30_2024-04-13_00-49-33.ckpt\n",
      "17. GGBond_epoch5_best_MinValLoss17point72_2024-04-18_12-55-28.ckpt\n",
      "18. GGBond_epoch5_best_MinValLoss17point85_2024-04-18_16-01-28.ckpt\n",
      "19. GGBond_epoch5_best_MinValLoss17point87_2024-04-18_17-01-37.ckpt\n",
      "20. GGBond_epoch5_best_MinValLoss18point12_2024-04-18_12-20-21.ckpt\n",
      "21. GGBond_epoch5_best_MinValLoss18point21_2024-04-18_13-19-00.ckpt\n",
      "22. GGBond_epoch5_best_MinValLoss18point25_2024-04-18_15-27-19.ckpt\n",
      "23. GGBond_epoch5_best_MinValLoss18point59_2024-04-18_12-16-32.ckpt\n",
      "24. GGBond_epoch5_best_MinValLoss18point61_2024-04-18_15-29-56.ckpt\n",
      "25. GGBond_epoch5_best_MinValLoss19point21_2024-04-18_12-10-49.ckpt\n",
      "26. GGBond_epoch5_final_ValLoss17point72_2024-04-18_12-55-28.ckpt\n",
      "27. GGBond_epoch5_final_ValLoss17point85_2024-04-18_16-01-28.ckpt\n",
      "28. GGBond_epoch5_final_ValLoss17point87_2024-04-18_17-01-37.ckpt\n",
      "29. GGBond_epoch5_final_ValLoss18point12_2024-04-18_12-20-21.ckpt\n",
      "30. GGBond_epoch5_final_ValLoss18point21_2024-04-18_13-19-00.ckpt\n",
      "31. GGBond_epoch5_final_ValLoss18point25_2024-04-18_15-27-19.ckpt\n",
      "32. GGBond_epoch5_final_ValLoss18point61_2024-04-18_15-29-56.ckpt\n",
      "33. GGBond_epoch5_final_ValLoss19point17_2024-04-18_12-16-32.ckpt\n",
      "34. GGBond_epoch5_final_ValLoss19point21_2024-04-18_12-10-49.ckpt\n"
     ]
    }
   ],
   "source": [
    "import os\n",
    "ckpt_dir = \"../../ckpt\"\n",
    "ckpt_files = os.listdir(ckpt_dir)\n",
    "# 按数据集名称排序\n",
    "ckpt_files.sort(key=lambda x: x.split(\"_\")[1])\n",
    "# 定义一个函数，用于从文件名中提取日期部分\n",
    "def extract_date(filename):\n",
    "    return filename.split(\"_\")[-2] + \"-\" + filename.split(\"_\")[-1].split(\".\")[0]\n",
    "\n",
    "# 对每个数据集名称下的文件按日期倒序排列\n",
    "sorted_files = {}\n",
    "for file in ckpt_files:\n",
    "    dataset_name = file.split(\"_\")[1]\n",
    "    if dataset_name not in sorted_files:\n",
    "        sorted_files[dataset_name] = []\n",
    "    sorted_files[dataset_name].append(file)\n",
    "\n",
    "for dataset_name in sorted_files:\n",
    "    sorted_files[dataset_name].sort(key=extract_date, reverse=True)\n",
    "# Get selected model path\n",
    "model_path = None\n",
    "print(\"All pretrained model files as follows:\")\n",
    "for i, file in enumerate(ckpt_files, 1):\n",
    "    print(f\"{i}. {file}\")"
   ]
  }
 ],
 "metadata": {
  "kernelspec": {
   "display_name": "m2t2",
   "language": "python",
   "name": "python3"
  },
  "language_info": {
   "codemirror_mode": {
    "name": "ipython",
    "version": 3
   },
   "file_extension": ".py",
   "mimetype": "text/x-python",
   "name": "python",
   "nbconvert_exporter": "python",
   "pygments_lexer": "ipython3",
   "version": "3.10.13"
  }
 },
 "nbformat": 4,
 "nbformat_minor": 2
}
