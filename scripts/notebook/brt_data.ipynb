{
 "cells": [
  {
   "cell_type": "code",
   "execution_count": null,
   "metadata": {},
   "outputs": [],
   "source": [
    "import matplotlib.pyplot as plt\n",
    "import numpy as np\n",
    "import seaborn as sns\n",
    "import pandas as pd\n",
    "\n",
    "\n",
    "dataname = \"BRT\"\n",
    "# data_path = f\"../../data/{dataset_name}/{dataset_name}.npz\"\n",
    "# data = np.load(data_path)['data'] # (1464, 45)\n",
    "station_list = ['第一码头', '开禾路口', '思北', '斗西路',\n",
    "                '二市', '文灶', '金榜公园', '火车站',\n",
    "                '莲坂', '龙山桥', '卧龙晓城', '东芳山庄',\n",
    "                '洪文', '前埔枢纽站', '蔡塘', '金山', '市政务服务中心',\n",
    "                '双十中学', '县后', '高崎机场', 'T4候机楼', '嘉庚体育馆',\n",
    "                '诚毅学院', '华侨大学', '大学城', '产业研究院', '中科院',\n",
    "                '东宅', '田厝', '厦门北站', '凤林', '东安', '后田', '东亭',\n",
    "                '美峰', '蔡店', '潘涂', '滨海新城西柯枢纽', '官浔', '轻工食品园',\n",
    "                '四口圳', '工业集中区', '第三医院', '城南', '同安枢纽']\n",
    "\n",
    "data_path = f\"../../data/y_hat/GAF_{dataname}_prediction.npz\"\n",
    "data = np.load(data_path)\n",
    "x = data[\"x\"] # (246, 24, 45)\n",
    "y = data[\"y\"] # (246, 24, 45)\n",
    "y_hat = data[\"y_hat\"] # (246, 24, 45)\n"
   ]
  },
  {
   "cell_type": "code",
   "execution_count": null,
   "metadata": {},
   "outputs": [],
   "source": [
    "def get_random_sample(x, y, y_hat):\n",
    "    num_samples, _, num_vertex = x.shape\n",
    "\n",
    "    sample_idx = np.random.randint(num_samples)\n",
    "    vertex_idx = np.random.randint(num_vertex)\n",
    "\n",
    "    select_x = x[sample_idx, :, vertex_idx]\n",
    "    select_y = y[sample_idx, :, vertex_idx]\n",
    "    select_y_hat = y_hat[sample_idx, :, vertex_idx]\n",
    "\n",
    "    return vertex_idx, select_x, select_y, select_y_hat\n",
    "\n",
    "vertex, x, y, y_hat = get_random_sample(x, y, y_hat)\n",
    "# [24]"
   ]
  },
  {
   "cell_type": "code",
   "execution_count": null,
   "metadata": {},
   "outputs": [],
   "source": [
    "def plot_prediction(x, y, y_hat, dataname, T=24, fontname=\"Microsoft YaHei\"):\n",
    "    y=np.insert(y,0,x[-1])\n",
    "    y_hat=np.insert(y_hat,0,x[-1])\n",
    "    data = pd.DataFrame({\n",
    "        '时间步': np.arange(T),  # 时间步\n",
    "        '客流量': x,  # 流量数据\n",
    "        '数据类型': np.repeat(['原始值'] * T, 1)  # 数据类型\n",
    "    })\n",
    "    data_y_hat = pd.DataFrame({\n",
    "        '时间步': np.tile(np.arange(T-1, T*2),2),  # 时间步\n",
    "        '客流量': np.concatenate((y, y_hat)),  # 流量数据\n",
    "        '数据类型': np.repeat(['真实值'] * (T+1) + ['预测值'] * (T+1), 1)  # 数据类型\n",
    "    })\n",
    "    data = pd.concat([data, data_y_hat], ignore_index=True)\n",
    "    # 使用 Seaborn 绘制图形\n",
    "    plt.figure(figsize=(10,6))\n",
    "    sns.set_theme(style='whitegrid',font=fontname)\n",
    "    sns.lineplot(\n",
    "            x='时间步',\n",
    "            y='客流量',\n",
    "            hue='数据类型',\n",
    "            data=data,\n",
    "            palette=['blue', 'green', 'red']\n",
    "        )\n",
    "    # SimHei黑体\n",
    "    fontdic={\"fontname\":fontname}\n",
    "    plt.xlabel('时间步', fontdict=fontdic)\n",
    "    plt.ylabel('客流量', fontdict=fontdic)\n",
    "    plt.title(f'厦门BRT客流量预测--{station_list[vertex]}站', fontdict=fontdic)\n",
    "    plt.legend(title='数据类型', loc='upper right')\n",
    "    plt.xticks(np.arange(T*2))\n",
    "    plt.show()\n",
    "\n",
    "\n",
    "plot_prediction(x, y, y_hat,dataname=dataname,T=24)"
   ]
  }
 ],
 "metadata": {
  "kernelspec": {
   "display_name": "m2t2",
   "language": "python",
   "name": "python3"
  },
  "language_info": {
   "codemirror_mode": {
    "name": "ipython",
    "version": 3
   },
   "file_extension": ".py",
   "mimetype": "text/x-python",
   "name": "python",
   "nbconvert_exporter": "python",
   "pygments_lexer": "ipython3",
   "version": "3.10.13"
  }
 },
 "nbformat": 4,
 "nbformat_minor": 2
}
