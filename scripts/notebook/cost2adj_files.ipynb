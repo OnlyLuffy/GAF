{
 "cells": [
  {
   "cell_type": "code",
   "execution_count": 1,
   "metadata": {},
   "outputs": [],
   "source": [
    "# 构建一个表示图中节点间相连度的邻接矩阵（Adjacency Matrix）\n",
    "# 记录所有图节点与其他节点的相连度（0-1表示，默认为0[不相连]，根据相连距离归一化表示，值越大表示越接近）\n",
    "import numpy as np\n",
    "import pandas as pd\n",
    "\n",
    "file_path = \"../../data/PeMS08/PEMS08.csv\"\n",
    "# file_path = \"../../data/PeMS04/PEMS04.csv\""
   ]
  },
  {
   "cell_type": "code",
   "execution_count": 2,
   "metadata": {},
   "outputs": [
    {
     "name": "stdout",
     "output_type": "stream",
     "text": [
      "(295, 2)\n",
      "(295,)\n",
      "max_dis =  3274.4\n",
      "min_dis =  6.3\n",
      "[[  9 153]\n",
      " [153  62]\n",
      " [ 62 111]\n",
      " [111  11]\n",
      " [ 11  28]]\n",
      "[0.90688777 0.90067625 0.90006423 0.90272635 0.8991157 ]\n"
     ]
    }
   ],
   "source": [
    "\n",
    "def get_similarity_data(file_path):\n",
    "    data = pd.read_csv(file_path)\n",
    "    data = data.to_numpy()\n",
    "    data_index = np.array(data[:,:2],dtype=np.int32)\n",
    "    data_cost = np.array(data[:,2],dtype=np.float32)\n",
    "    print(data_index.shape)\n",
    "    print(data_cost.shape)\n",
    "\n",
    "    # 使用归一化公式将原始距离转换为0到1之间的值，并反向表示接近度。通常情况下，距离与接近度成反比\n",
    "    max_dis = np.max(data_cost)\n",
    "    min_dis = np.min(data_cost)\n",
    "    print(\"max_dis = \", max_dis)\n",
    "    print(\"min_dis = \", min_dis)\n",
    "    normalized = 1. - (data_cost - min_dis) / (max_dis - min_dis)\n",
    "    return data_index, normalized\n",
    "\n",
    "data_index, normalized = get_similarity_data(file_path=file_path)\n",
    "print(data_index[:5])\n",
    "print(normalized[:5])"
   ]
  },
  {
   "cell_type": "code",
   "execution_count": 3,
   "metadata": {},
   "outputs": [
    {
     "name": "stdout",
     "output_type": "stream",
     "text": [
      "(28900, 2)\n",
      "(28900, 1)\n"
     ]
    }
   ],
   "source": [
    "def get_np_adj(num_vertex, data_index, data_cost):\n",
    "    adj_index = np.zeros((num_vertex*num_vertex, 2), dtype=np.int32)\n",
    "    adj_cost = np.zeros((num_vertex*num_vertex, 1), dtype=np.float32)\n",
    "    print(adj_index.shape)\n",
    "    print(adj_cost.shape)\n",
    "    for i in range(adj_index.shape[0]):\n",
    "        adj_index[i,0]=i // num_vertex\n",
    "        adj_index[i,1]=i % num_vertex\n",
    "        if adj_index[i,0] == adj_index[i,1]:\n",
    "            adj_cost[i]=1\n",
    "    # print(adj_index[(num_vertex-10):(num_vertex+10)])\n",
    "    for i in range(data_index.shape[0]):\n",
    "        A = data_index[i,0]\n",
    "        B = data_index[i,1]\n",
    "        cost = data_cost[i]\n",
    "        for j in range(adj_index.shape[0]):\n",
    "            if A==adj_index[j,0] and B==adj_index[j,1]:\n",
    "                adj_cost[j]=cost\n",
    "    return adj_index, adj_cost\n",
    "\n",
    "adj_index, adj_cost = get_np_adj(170,data_index,normalized) # PEMS08\n",
    "# adj_index, adj_cost = get_np_adj(307,data_index,normalized) # PEMS04\n"
   ]
  },
  {
   "cell_type": "code",
   "execution_count": 4,
   "metadata": {},
   "outputs": [],
   "source": [
    "# save\n",
    "# 写入adj.txt文件\n",
    "# adj_file_path = '../../data/PeMS04/PeMS04_Adj.txt'\n",
    "adj_file_path = '../../data/PeMS08/PeMS08_Adj.txt'\n",
    "lines = []\n",
    "for index, cost in zip(adj_index, adj_cost):\n",
    "    line = f\"{index[0]} {index[1]} {cost[0]:.6f}\"\n",
    "    lines.append(line)\n",
    "with open(adj_file_path, 'w') as f:\n",
    "    f.write(\"\\n\".join(lines))\n"
   ]
  }
 ],
 "metadata": {
  "kernelspec": {
   "display_name": "m2t2",
   "language": "python",
   "name": "python3"
  },
  "language_info": {
   "codemirror_mode": {
    "name": "ipython",
    "version": 3
   },
   "file_extension": ".py",
   "mimetype": "text/x-python",
   "name": "python",
   "nbconvert_exporter": "python",
   "pygments_lexer": "ipython3",
   "version": "3.10.13"
  }
 },
 "nbformat": 4,
 "nbformat_minor": 2
}
