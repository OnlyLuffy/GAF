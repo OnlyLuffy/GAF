{
 "cells": [
  {
   "cell_type": "code",
   "execution_count": null,
   "metadata": {},
   "outputs": [],
   "source": [
    "import matplotlib.pyplot as plt\n",
    "import numpy as np\n",
    "import seaborn as sns\n",
    "\n",
    "\n",
    "dataset_name = \"PeMS-BAY\"\n",
    "data_path = f\"../../data/{dataset_name}/{dataset_name}.npz\"\n",
    "data = np.load(data_path)['data']\n",
    "num_vertex = data.shape[1]\n",
    "seq_len = data.shape[0]\n",
    "T = 288\n",
    "newT = T*7\n",
    "print(\"num_vertex:\", num_vertex)\n",
    "print(\"seq_len:\", seq_len)"
   ]
  },
  {
   "cell_type": "code",
   "execution_count": null,
   "metadata": {},
   "outputs": [],
   "source": [
    "random_nodes1 = np.random.randint(0, num_vertex)\n",
    "random_nodes3 = random_nodes1 + 1\n",
    "random_nodes2 = np.random.randint(0, num_vertex)\n",
    "print(random_nodes1, random_nodes2)\n",
    "flow1 = data[:newT, random_nodes1]\n",
    "flow2 = data[:newT, random_nodes2]\n",
    "flow3 = data[:newT, random_nodes3]"
   ]
  },
  {
   "cell_type": "code",
   "execution_count": null,
   "metadata": {},
   "outputs": [],
   "source": [
    "sns.set_theme(style=\"whitegrid\")\n",
    "plt.figure(figsize=(10, 6))\n",
    "sns.lineplot(x=np.arange(newT), y=flow1, label=f'Node {random_nodes1}')\n",
    "sns.lineplot(x=np.arange(newT), y=flow2, label=f'Node {random_nodes2}')\n",
    "sns.lineplot(x=np.arange(newT), y=flow3, label=f'Node {random_nodes3}')\n",
    "plt.title(f\"Traffic Flow Data - {dataset_name}\")\n",
    "plt.xlabel('Time Steps')\n",
    "plt.ylabel('Flow')\n",
    "plt.legend()\n",
    "plt.show()"
   ]
  },
  {
   "cell_type": "code",
   "execution_count": null,
   "metadata": {},
   "outputs": [],
   "source": []
  }
 ],
 "metadata": {
  "kernelspec": {
   "display_name": "m2t2",
   "language": "python",
   "name": "python3"
  },
  "language_info": {
   "codemirror_mode": {
    "name": "ipython",
    "version": 3
   },
   "file_extension": ".py",
   "mimetype": "text/x-python",
   "name": "python",
   "nbconvert_exporter": "python",
   "pygments_lexer": "ipython3",
   "version": "3.10.13"
  }
 },
 "nbformat": 4,
 "nbformat_minor": 2
}
