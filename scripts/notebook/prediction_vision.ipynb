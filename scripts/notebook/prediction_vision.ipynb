{
 "cells": [
  {
   "cell_type": "code",
   "execution_count": null,
   "metadata": {},
   "outputs": [],
   "source": [
    "import matplotlib.pyplot as plt\n",
    "import numpy as np\n",
    "import seaborn as sns\n",
    "import pandas as pd\n",
    "\n",
    "dataname = \"PeMS08\"\n",
    "data_path = f\"../../data/y_hat/GAF_{dataname}_prediction.npz\"\n",
    "data = np.load(data_path)\n",
    "x = data[\"x\"]\n",
    "y = data[\"y\"]\n",
    "y_hat = data[\"y_hat\"]"
   ]
  },
  {
   "cell_type": "code",
   "execution_count": null,
   "metadata": {},
   "outputs": [],
   "source": [
    "print(\"x.shape:\", x.shape)\n",
    "print(\"y.shape:\", y.shape)\n",
    "print(\"y_hat.shape:\", y_hat.shape)"
   ]
  },
  {
   "cell_type": "code",
   "execution_count": null,
   "metadata": {},
   "outputs": [],
   "source": [
    "def get_random_sample(x, y, y_hat):\n",
    "    num_samples, _, num_vertex = x.shape\n",
    "\n",
    "    sample_idx = np.random.randint(num_samples)\n",
    "    vertex_idx = np.random.randint(num_vertex)\n",
    "\n",
    "    select_x = x[sample_idx, :, vertex_idx]\n",
    "    select_y = y[sample_idx, :, vertex_idx]\n",
    "    select_y_hat = y_hat[sample_idx, :, vertex_idx]\n",
    "\n",
    "    return select_x, select_y, select_y_hat\n",
    "\n",
    "x,y,y_hat = get_random_sample(x, y, y_hat)\n",
    "print(\"x=\", x)\n",
    "print(\"y=\", y)\n",
    "print(\"y_hat=\", y_hat)\n",
    "y_values = np.concatenate([x, y], axis=0)\n",
    "print(\"shape of y_values:\", y_values.shape)"
   ]
  },
  {
   "cell_type": "code",
   "execution_count": null,
   "metadata": {},
   "outputs": [],
   "source": [
    "def plot_prediction(x, y, y_hat, dataname):\n",
    "    y=np.insert(y,0,x[-1])\n",
    "    y_hat=np.insert(y_hat,0,x[-1])\n",
    "    data = pd.DataFrame({\n",
    "        'Time Step': np.arange(12),  # 时间步\n",
    "        'Traffic Flow': x,  # 流量数据\n",
    "        'Data Type': np.repeat(['X'] * 12, 1)  # 数据类型\n",
    "    })\n",
    "    data_y_hat = pd.DataFrame({\n",
    "        'Time Step': np.tile(np.arange(11, 24),2),  # 时间步\n",
    "        'Traffic Flow': np.concatenate((y, y_hat)),  # 流量数据\n",
    "        'Data Type': np.repeat(['Y'] * 13 + ['Y_hat'] * 13, 1)  # 数据类型\n",
    "    })\n",
    "    data = pd.concat([data, data_y_hat], ignore_index=True)\n",
    "    # 使用 Seaborn 绘制图形\n",
    "    plt.figure(figsize=(8, 4))\n",
    "    sns.set_theme(style='whitegrid')\n",
    "    sns.lineplot(x='Time Step', y='Traffic Flow', hue='Data Type', data=data, palette=['blue', 'green', 'red'])\n",
    "    plt.xlabel('Time Step')\n",
    "    plt.ylabel('Traffic Flow')\n",
    "    plt.title(f'Traffic Flow Prediction--{dataname}')\n",
    "    plt.legend(title='Data Type', loc='upper right')\n",
    "    plt.xticks(np.arange(24))\n",
    "    plt.show()\n",
    "\n",
    "\n",
    "plot_prediction(x, y, y_hat,dataname=dataname)"
   ]
  }
 ],
 "metadata": {
  "kernelspec": {
   "display_name": "m2t2",
   "language": "python",
   "name": "python3"
  },
  "language_info": {
   "codemirror_mode": {
    "name": "ipython",
    "version": 3
   },
   "file_extension": ".py",
   "mimetype": "text/x-python",
   "name": "python",
   "nbconvert_exporter": "python",
   "pygments_lexer": "ipython3",
   "version": "3.10.13"
  }
 },
 "nbformat": 4,
 "nbformat_minor": 2
}
